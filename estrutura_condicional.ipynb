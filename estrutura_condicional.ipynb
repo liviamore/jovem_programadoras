{
  "nbformat": 4,
  "nbformat_minor": 0,
  "metadata": {
    "colab": {
      "provenance": []
    },
    "kernelspec": {
      "name": "python3",
      "display_name": "Python 3"
    },
    "language_info": {
      "name": "python"
    }
  },
  "cells": [
    {
      "cell_type": "code",
      "execution_count": null,
      "metadata": {
        "id": "6BjrkTdUlIfB"
      },
      "outputs": [],
      "source": [
        "# if \n",
        "# elif\n",
        "# else\n",
        "\n",
        "# 1) Pesquise e anote sobre as condicionais if, elif e else.\n",
        "## 2) Replique o código abaixo (não é para copiar e colar)"
      ]
    },
    {
      "cell_type": "markdown",
      "source": [
        "O if-else no Python é usado, sobretudo, para fazer uma execução andar, após análise de condições preestabelecidas. Serve para avaliar todas as opções possíveis e evitar erros no código.\n",
        "\n",
        "Por exemplo, considere que o programador não está usando devidamente a estrutura condicional. Então, o programa pode cair em alguma situação de erro não tratada ou em alguma inconsistência não planejada.\n",
        "\n",
        "Else em Python O ELSE surge depois do IF, em complemento lógico a ele. Então, não existe hipótese de escrever um ELSE sem um IF antes.\n",
        "\n",
        "Geralmente, o ELSE não requer um teste, uma comparação, pois ele executa algo caso a comparação do IF não passe.\n",
        "\n",
        "Portanto, você só precisa declarar o ELSE e adicionar o bloco de comandos.\n",
        "\n",
        "IF em Python Já o IF deve propor alguma coisa. É preciso escrever o IF e logo depois colocar a condição analisada. Então, em seguida, o bloco de comandos.\n",
        "\n",
        "Elif em Python O elif é uma estrutura intermediária dentro da seção if-else no python e deve vir como um complemento a ambos. Quando você já tem um IF e um ELSE, mas precisa de uma condição para especificar outra regra, pode usar o elif.\n",
        "\n",
        "Caso algo não tenha ficado exatamente claro, não se preocupe: estudaremos em detalhes como se faz o código dessas estruturas em um tutorial prático."
      ],
      "metadata": {
        "id": "32GEVirMlgnI"
      }
    },
    {
      "cell_type": "code",
      "source": [
        "idade = 18\n",
        "if idade < 20:\n",
        "  print('voce e jovem!')"
      ],
      "metadata": {
        "colab": {
          "base_uri": "https://localhost:8080/"
        },
        "id": "e2MxzMC1loNv",
        "outputId": "15eb2148-d479-40a4-f3cc-520eac73aec2"
      },
      "execution_count": null,
      "outputs": [
        {
          "output_type": "stream",
          "name": "stdout",
          "text": [
            "voce e jovem!\n"
          ]
        }
      ]
    },
    {
      "cell_type": "code",
      "source": [
        "a = 33\n",
        "b = 200\n",
        "if b > a:\n",
        "  print(\"b e maor que um\")"
      ],
      "metadata": {
        "colab": {
          "base_uri": "https://localhost:8080/"
        },
        "id": "pCTG82N6m9B8",
        "outputId": "6f213a2b-9592-4c95-abb8-b8ee9b815749"
      },
      "execution_count": null,
      "outputs": [
        {
          "output_type": "stream",
          "name": "stdout",
          "text": [
            "b e maor que um\n"
          ]
        }
      ]
    },
    {
      "cell_type": "code",
      "source": [
        "idade = 18\n",
        "if idade >= 18:\n",
        "    print('maior de idade')\n",
        "else:\n",
        "    print('menor de idade')"
      ],
      "metadata": {
        "colab": {
          "base_uri": "https://localhost:8080/"
        },
        "id": "6gAsAf4WnMHt",
        "outputId": "30e9dcd4-97d1-48ae-d99f-99c6c2973f0d"
      },
      "execution_count": null,
      "outputs": [
        {
          "output_type": "stream",
          "name": "stdout",
          "text": [
            "maior de idade\n"
          ]
        }
      ]
    },
    {
      "cell_type": "code",
      "source": [
        "idade = 18\n",
        "if idade < 12:\n",
        "   print('crianca') \n",
        "elif idade < 18:\n",
        "    print('adolescente')\n",
        "elif idade < 60:\n",
        "    print('adulto')\n",
        "else:\n",
        "    print('idoso')\n",
        "     "
      ],
      "metadata": {
        "colab": {
          "base_uri": "https://localhost:8080/"
        },
        "id": "Oabw7UNVnpEI",
        "outputId": "94f68853-edc2-4a5f-971f-f9f5b1b4d5db"
      },
      "execution_count": null,
      "outputs": [
        {
          "output_type": "stream",
          "name": "stdout",
          "text": [
            "adulto\n"
          ]
        }
      ]
    },
    {
      "cell_type": "code",
      "source": [
        "n = int(input(\"digite um numero:\"))\n",
        "if n % 2 == 0: # se n e4 multiplo de 2\n",
        "    print(n, \"e' par\")\n",
        "if n % 2 != 0: # se n nao e multiplo de 2\n",
        "    print(n, \"e' impar\")\n",
        "\n",
        "    print(\"fim.\")"
      ],
      "metadata": {
        "colab": {
          "base_uri": "https://localhost:8080/"
        },
        "id": "UieoY8KmoqFk",
        "outputId": "5e637b6f-1f2b-44f4-e013-eba9d4a5d5ba"
      },
      "execution_count": null,
      "outputs": [
        {
          "output_type": "stream",
          "name": "stdout",
          "text": [
            "digite um numero:5\n",
            "5 e' impar\n",
            "fim.\n"
          ]
        }
      ]
    },
    {
      "cell_type": "code",
      "source": [
        "linguagem = \"python\"\n",
        "\n",
        "if linguagem == \"C++\":\n",
        "    print('C++ e uma lingugem de programaçao compilada.')\n",
        "elif linguagem == \"python\":\n",
        "    print(\"python e uma liguagem de programaçao d alto nivel\")\n",
        "elif linguagem == \"java\":\n",
        "    print(\"java e uma linguagem de programaçao amplamante utilizada no mercado\")\n",
        "else:\n",
        "    print('nao e nenhuma das duas opçoes')"
      ],
      "metadata": {
        "colab": {
          "base_uri": "https://localhost:8080/"
        },
        "id": "XTX8641hpy9C",
        "outputId": "13c5326d-700a-4100-e73d-192ce745894c"
      },
      "execution_count": null,
      "outputs": [
        {
          "output_type": "stream",
          "name": "stdout",
          "text": [
            "python e uma liguagem de programaçao d alto nivel\n"
          ]
        }
      ]
    },
    {
      "cell_type": "code",
      "source": [
        "velocidade = 75\n",
        "\n",
        "resultado = 'multado' if velocidade > 60 else 'dentro do limite'\n",
        "\n",
        "print(resultado)"
      ],
      "metadata": {
        "colab": {
          "base_uri": "https://localhost:8080/"
        },
        "id": "WQcPy_CZsLDP",
        "outputId": "c5f92d65-7922-48e8-e06d-21f4685693a6"
      },
      "execution_count": null,
      "outputs": [
        {
          "output_type": "stream",
          "name": "stdout",
          "text": [
            "multado\n"
          ]
        }
      ]
    },
    {
      "cell_type": "code",
      "source": [
        "nota = int(input(\"Digite uma nota: \"))\n",
        "\n",
        "if nota < 30:\n",
        "    print(\"Reprovado\")\n",
        "if nota >= 30:\n",
        "    if nota < 50:\n",
        "        print(\"Recuperacao\")\n",
        "if nota >= 50:\n",
        "        print(\"Aprovado\")\n",
        "\n",
        "print(\"fim.\")"
      ],
      "metadata": {
        "colab": {
          "base_uri": "https://localhost:8080/"
        },
        "id": "FkDd5d2LsuJh",
        "outputId": "b57e43f8-b14a-465b-d274-27bda3d619d1"
      },
      "execution_count": null,
      "outputs": [
        {
          "output_type": "stream",
          "name": "stdout",
          "text": [
            "Digite uma nota: 82\n",
            "Aprovado\n",
            "fim.\n"
          ]
        }
      ]
    },
    {
      "cell_type": "code",
      "source": [
        "n = 25   # altere esse valor e simule esse trecho novamente\n",
        "if n < 0:\n",
        "    print(n, \"< 0\")\n",
        "elif n == 0:\n",
        "    print(n, \"== 0\")\n",
        "elif n < 10:\n",
        "    print(\"0 < \", n,\"< 10\")\n",
        "elif n < 20:\n",
        "    print(\"10 <=\", n, \"< 20\")\n",
        "elif n < 30:\n",
        "    print(\"20 <=\", n, \"< 30\")\n",
        "elif n < 50:\n",
        "    print(\"30 <=\", n, \"< 50\")\n",
        "else:\n",
        "    print(\"50 <=\", n)\n",
        "print(\"termino do teste\")"
      ],
      "metadata": {
        "colab": {
          "base_uri": "https://localhost:8080/"
        },
        "id": "_HVLQtPDs7PU",
        "outputId": "ac09b2b4-fa08-4b37-bc1f-55c2c7d2cde9"
      },
      "execution_count": null,
      "outputs": [
        {
          "output_type": "stream",
          "name": "stdout",
          "text": [
            "20 <= 25 < 30\n",
            "termino do teste\n"
          ]
        }
      ]
    }
  ]
}