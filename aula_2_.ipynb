{
  "nbformat": 4,
  "nbformat_minor": 0,
  "metadata": {
    "colab": {
      "provenance": []
    },
    "kernelspec": {
      "name": "python3",
      "display_name": "Python 3"
    },
    "language_info": {
      "name": "python"
    }
  },
  "cells": [
    {
      "cell_type": "code",
      "execution_count": null,
      "metadata": {
        "colab": {
          "base_uri": "https://localhost:8080/"
        },
        "id": "ZwtaOrR35Axj",
        "outputId": "b141317a-e576-4595-d259-d23f6f217146"
      },
      "outputs": [
        {
          "output_type": "stream",
          "name": "stdout",
          "text": [
            "<class 'int'>\n",
            "<class 'int'>\n"
          ]
        }
      ],
      "source": [
        "## tipo inteiro\n",
        "##int\n",
        "idade = 18\n",
        "ano = 2005\n",
        "print(type(idade))\n",
        "print(type(ano))"
      ]
    },
    {
      "cell_type": "code",
      "source": [
        "## numero racional\n",
        "altura = 1.80\n",
        "peso = 73.55\n",
        "print(type(peso))\n",
        "print(type(altura))"
      ],
      "metadata": {
        "colab": {
          "base_uri": "https://localhost:8080/"
        },
        "id": "_coLD2F658mE",
        "outputId": "4e1f12e1-834b-4c83-cf3d-73b701032875"
      },
      "execution_count": null,
      "outputs": [
        {
          "output_type": "stream",
          "name": "stdout",
          "text": [
            "<class 'float'>\n",
            "<class 'float'>\n"
          ]
        }
      ]
    },
    {
      "cell_type": "code",
      "source": [
        "## numero complexo\n",
        "a = 5+2j\n",
        "b = 20+6j\n",
        "print(type(a))\n",
        "print(type(b))\n",
        "print(complex(2, 5))"
      ],
      "metadata": {
        "colab": {
          "base_uri": "https://localhost:8080/"
        },
        "id": "wglPQdyt601M",
        "outputId": "cdf9f5a4-44e0-4ec9-81a0-ff911aecb6d5"
      },
      "execution_count": null,
      "outputs": [
        {
          "output_type": "stream",
          "name": "stdout",
          "text": [
            "<class 'complex'>\n",
            "<class 'complex'>\n",
            "(2+5j)\n"
          ]
        }
      ]
    },
    {
      "cell_type": "code",
      "source": [
        "## string (str)\n",
        "nome = 'guilherme'\n",
        "profissao = 'engenheiro de sotwere'\n",
        "print(type(profissao))\n",
        "print(type(nome))"
      ],
      "metadata": {
        "colab": {
          "base_uri": "https://localhost:8080/"
        },
        "id": "w2aAai_g7tY8",
        "outputId": "7be1ac87-0cc6-405b-f70b-53f8abaca151"
      },
      "execution_count": null,
      "outputs": [
        {
          "output_type": "stream",
          "name": "stdout",
          "text": [
            "<class 'str'>\n",
            "<class 'str'>\n"
          ]
        }
      ]
    },
    {
      "cell_type": "code",
      "source": [
        "## boolean\n",
        "fim_de_semana = True\n",
        "feriado = False\n",
        "print(type(fim_de_semana))\n",
        "print(type(feriado))"
      ],
      "metadata": {
        "colab": {
          "base_uri": "https://localhost:8080/"
        },
        "id": "Vv-HB7KN8gDE",
        "outputId": "a197885e-41ee-4ae5-9a1a-d3123397b57f"
      },
      "execution_count": null,
      "outputs": [
        {
          "output_type": "stream",
          "name": "stdout",
          "text": [
            "<class 'bool'>\n",
            "<class 'bool'>\n"
          ]
        }
      ]
    },
    {
      "cell_type": "code",
      "source": [
        "## listas\n",
        "alunos = ['amanda', 'ana', 'bruno', 'joao']\n",
        "notas = [10, 8.5, 7.8, 8.0]\n",
        "print(type(alunos))\n",
        "print(type(notas))"
      ],
      "metadata": {
        "colab": {
          "base_uri": "https://localhost:8080/"
        },
        "id": "J3Pdvt-i9BIc",
        "outputId": "5da5ec5a-67f5-4ced-a40d-ed9c7ebb0f5f"
      },
      "execution_count": null,
      "outputs": [
        {
          "output_type": "stream",
          "name": "stdout",
          "text": [
            "<class 'list'>\n",
            "<class 'list'>\n"
          ]
        }
      ]
    },
    {
      "cell_type": "code",
      "source": [
        "## tuplas\n",
        "valores = (90, 79, 54, 32, 21)\n",
        "pontos = (100, 94.05, 86.8, 62)\n",
        "print(type(valores))\n",
        "print(type(pontos))"
      ],
      "metadata": {
        "colab": {
          "base_uri": "https://localhost:8080/"
        },
        "id": "tR5Iuyvn-Gyi",
        "outputId": "45c33991-b2f9-4a50-de94-bbd7586ca6ec"
      },
      "execution_count": null,
      "outputs": [
        {
          "output_type": "stream",
          "name": "stdout",
          "text": [
            "<class 'tuple'>\n",
            "<class 'tuple'>\n"
          ]
        }
      ]
    },
    {
      "cell_type": "code",
      "source": [
        "## convertendo numeros\n",
        "##decimal (float) para string (str)\n",
        "## antes da conversao\n",
        "altura = 1.80\n",
        "print(type(altura))\n",
        "# conversao do tipo \n",
        "altura = str(altura)\n",
        "# depois da conversao\n",
        "type(altura)\n",
        "print(altura)\n"
      ],
      "metadata": {
        "colab": {
          "base_uri": "https://localhost:8080/"
        },
        "id": "29BuQh0q-tG7",
        "outputId": "9656fcad-4dd3-42f7-ebdf-9f0939fbf109"
      },
      "execution_count": null,
      "outputs": [
        {
          "output_type": "stream",
          "name": "stdout",
          "text": [
            "<class 'float'>\n",
            "1.8\n"
          ]
        }
      ]
    },
    {
      "cell_type": "code",
      "source": [
        "## inteiro para decimal \n",
        "## antes da conversao\n",
        "idade = 18\n",
        "print(type(idade))\n",
        "# conversao do tipo \n",
        "idade = float(idade)\n",
        "# depois da conversao\n",
        "print(type(idade))\n",
        "print(idade)"
      ],
      "metadata": {
        "colab": {
          "base_uri": "https://localhost:8080/"
        },
        "id": "N9zEM8iAFTh7",
        "outputId": "b41055fc-b305-4f68-800e-08c4836a39a7"
      },
      "execution_count": null,
      "outputs": [
        {
          "output_type": "stream",
          "name": "stdout",
          "text": [
            "<class 'int'>\n",
            "<class 'float'>\n",
            "18.0\n"
          ]
        }
      ]
    },
    {
      "cell_type": "code",
      "source": [
        "## booleano (bool) para inteiro\n",
        "## antes da conversao\n",
        "fim_de_semana = True\n",
        "print(type(fim_de_semana))\n",
        "# conversao do tipo \n",
        "fim_de_semana = int(fim_de_semana)\n",
        "# depois da conversao\n",
        "print(type(fim_de_semana))\n",
        "print(fim_de_semana)"
      ],
      "metadata": {
        "colab": {
          "base_uri": "https://localhost:8080/"
        },
        "id": "3FRt1tFUGOhS",
        "outputId": "958367cc-d77f-4b65-ccda-526b6684a8de"
      },
      "execution_count": null,
      "outputs": [
        {
          "output_type": "stream",
          "name": "stdout",
          "text": [
            "<class 'bool'>\n",
            "<class 'int'>\n",
            "1\n"
          ]
        }
      ]
    },
    {
      "cell_type": "code",
      "source": [
        "## dicionario em python\n",
        "altura = {'amanda': 1.65, 'ana': 1.60, 'joao': 1.70}\n",
        "peso = {'amanda': 60, 'ana': 58, 'joao': 68}\n",
        "print(type(altura))\n",
        "print(type(peso))"
      ],
      "metadata": {
        "colab": {
          "base_uri": "https://localhost:8080/"
        },
        "id": "5L7TlwnbHRSz",
        "outputId": "94831316-2cf9-463f-bb3a-979d29a52701"
      },
      "execution_count": null,
      "outputs": [
        {
          "output_type": "stream",
          "name": "stdout",
          "text": [
            "<class 'dict'>\n",
            "<class 'dict'>\n"
          ]
        }
      ]
    },
    {
      "cell_type": "code",
      "source": [
        "## o comando dicionario_vazio = dict() possui o mesmo efeito do comando abaixo.\n",
        "dicionario_vazio = {}\n",
        "print(\"dicionario vazio:\", dicionario_vazio)\n",
        "paises = {'bras': 'brasil', 'eua': 'estados unidos', 'fra': 'frnça'}\n",
        "print(\"exemplo de dicionario:\", paises)\n",
        "print(\"tipo de um dicionario:\", type(paises))"
      ],
      "metadata": {
        "colab": {
          "base_uri": "https://localhost:8080/"
        },
        "id": "CTuZAxCDJATL",
        "outputId": "da943c67-7d7f-42f4-9eaf-1a7cd469cee1"
      },
      "execution_count": null,
      "outputs": [
        {
          "output_type": "stream",
          "name": "stdout",
          "text": [
            "dicionario vazio: {}\n",
            "exemplo de dicionario: {'bras': 'brasil', 'eua': 'estados unidos', 'fra': 'frnça'}\n",
            "tipo de um dicionario: <class 'dict'>\n"
          ]
        }
      ]
    },
    {
      "cell_type": "code",
      "source": [
        "## o comando dicionario_vazio = dict() possui o mesmo efeito do comando abaixo.\n",
        "paises[\"bras\"] = 'brazil'\n",
        "paises[\"fra\"] = \"france\"\n",
        "## adicionando um elemento\n",
        "paises[\"esp\"] = \"espanha\"\n",
        "print(\"dicionario modificado\", paises)"
      ],
      "metadata": {
        "colab": {
          "base_uri": "https://localhost:8080/"
        },
        "id": "zQeo3dRgMzJr",
        "outputId": "6d26f9ee-d45c-4da0-9af9-58a65635ba20"
      },
      "execution_count": null,
      "outputs": [
        {
          "output_type": "stream",
          "name": "stdout",
          "text": [
            "dicionario modificado {'bras': 'brazil', 'eua': 'estados unidos', 'fra': 'france', 'esp': 'espanha'}\n"
          ]
        }
      ]
    },
    {
      "cell_type": "code",
      "source": [
        "## pesquisando do dicionario\n",
        "print(\"eua:\", paises['eua'])"
      ],
      "metadata": {
        "colab": {
          "base_uri": "https://localhost:8080/"
        },
        "id": "QwKVzrLpOAR6",
        "outputId": "a55db603-edcb-4a40-abbb-092b48640edc"
      },
      "execution_count": null,
      "outputs": [
        {
          "output_type": "stream",
          "name": "stdout",
          "text": [
            "eua: estados unidos\n"
          ]
        }
      ]
    },
    {
      "cell_type": "code",
      "source": [
        " "
      ],
      "metadata": {
        "colab": {
          "base_uri": "https://localhost:8080/"
        },
        "id": "JRf45O7ROj1K",
        "outputId": "a1a3bea6-4ba8-4f7c-cdb7-6d307623010f"
      },
      "execution_count": null,
      "outputs": [
        {
          "output_type": "stream",
          "name": "stdout",
          "text": [
            "bras=brasil\n",
            "eua=estados unidos\n",
            "fra=france\n",
            "esp=espanha\n"
          ]
        }
      ]
    },
    {
      "cell_type": "code",
      "source": [
        "## exemplo de um dict com dados de cliente de uma empresa \n",
        "dados_cliente = {\n",
        "    'nome': 'renan',\n",
        "    'endereco': 'rua cruzeiro do sul',\n",
        "    'telefone': '982503645'\n",
        "    }\n",
        "print(dados_cliente['nome']) # renan"
      ],
      "metadata": {
        "colab": {
          "base_uri": "https://localhost:8080/"
        },
        "id": "9zaDD1eKQGwa",
        "outputId": "d2305d76-54f0-4a9f-a01f-6c1013971366"
      },
      "execution_count": null,
      "outputs": [
        {
          "output_type": "stream",
          "name": "stdout",
          "text": [
            "renan\n"
          ]
        }
      ]
    },
    {
      "cell_type": "code",
      "source": [
        "## exemplo de um dict com dados de cliente de uma empresa \n",
        "dados_cliente = {\n",
        "    'nome': 'renan',\n",
        "    'endereco': 'rua cruzeiro do sul',\n",
        "    'telefone': '982503645'\n",
        "    }\n",
        "print(dados_cliente['endereco']) # renan"
      ],
      "metadata": {
        "colab": {
          "base_uri": "https://localhost:8080/"
        },
        "id": "Y37mSN-8TUAE",
        "outputId": "b4ad090b-7fea-4eb5-f576-06f8287a4113"
      },
      "execution_count": null,
      "outputs": [
        {
          "output_type": "stream",
          "name": "stdout",
          "text": [
            "rua cruzeiro do sul\n"
          ]
        }
      ]
    },
    {
      "cell_type": "code",
      "source": [
        "## exemplo de um dict com dados de cliente de uma empresa \n",
        "dados_cliente = {\n",
        "    'nome': 'renan',\n",
        "    'endereco': 'rua cruzeiro do sul',\n",
        "    'telefone': '982503645'\n",
        "    }\n",
        "print(dados_cliente['telefone']) # renan"
      ],
      "metadata": {
        "colab": {
          "base_uri": "https://localhost:8080/"
        },
        "id": "SFkA1ctCTeXy",
        "outputId": "b0ce0036-fde4-4524-8cef-46c9415a26e2"
      },
      "execution_count": null,
      "outputs": [
        {
          "output_type": "stream",
          "name": "stdout",
          "text": [
            "982503645\n"
          ]
        }
      ]
    },
    {
      "cell_type": "code",
      "source": [
        "dados_cliente = {\n",
        "    'nome': 'renan',\n",
        "    'endereco': 'rua cruzeiro do sul',\n",
        "    'telefone': '982503645'\n",
        "    }\n",
        "print(dados_cliente)"
      ],
      "metadata": {
        "colab": {
          "base_uri": "https://localhost:8080/"
        },
        "id": "0jaW-fYdTloS",
        "outputId": "be93fe56-93eb-44d4-c68a-0856c9af84bc"
      },
      "execution_count": null,
      "outputs": [
        {
          "output_type": "stream",
          "name": "stdout",
          "text": [
            "{'nome': 'renan', 'endereco': 'rua cruzeiro do sul', 'telefone': '982503645'}\n"
          ]
        }
      ]
    },
    {
      "cell_type": "code",
      "source": [
        "dados_cliente = {\n",
        "    'nome': 'renan',\n",
        "    'endereco': 'rua cruzeiro do sul',\n",
        "    'telefone': '982503645'\n",
        "    }\n",
        "    print(dados_cliente)\n",
        "    dados_cliente['Altura'] = 1.77\n",
        "    print(dados_cliente)"
      ],
      "metadata": {
        "colab": {
          "base_uri": "https://localhost:8080/",
          "height": 130
        },
        "id": "_kp3-ppp6-wW",
        "outputId": "3c2222b4-a0cb-4f64-db8e-47f5f8506e2e"
      },
      "execution_count": null,
      "outputs": [
        {
          "output_type": "error",
          "ename": "IndentationError",
          "evalue": "ignored",
          "traceback": [
            "\u001b[0;36m  File \u001b[0;32m\"<ipython-input-4-416e07e02d06>\"\u001b[0;36m, line \u001b[0;32m6\u001b[0m\n\u001b[0;31m    print(dados_cliente)\u001b[0m\n\u001b[0m    ^\u001b[0m\n\u001b[0;31mIndentationError\u001b[0m\u001b[0;31m:\u001b[0m unexpected indent\n"
          ]
        }
      ]
    },
    {
      "cell_type": "code",
      "source": [],
      "metadata": {
        "id": "s_byzYdY9zcG"
      },
      "execution_count": null,
      "outputs": []
    }
  ]
}