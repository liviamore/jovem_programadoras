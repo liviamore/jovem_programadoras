{
  "nbformat": 4,
  "nbformat_minor": 0,
  "metadata": {
    "colab": {
      "provenance": []
    },
    "kernelspec": {
      "name": "python3",
      "display_name": "Python 3"
    },
    "language_info": {
      "name": "python"
    }
  },
  "cells": [
    {
      "cell_type": "code",
      "execution_count": null,
      "metadata": {
        "colab": {
          "base_uri": "https://localhost:8080/"
        },
        "id": "se3JAhikuHW2",
        "outputId": "4912ea41-8765-4fbb-853f-50b235bc9bb5"
      },
      "outputs": [
        {
          "output_type": "stream",
          "name": "stdout",
          "text": [
            "hello, world\n"
          ]
        }
      ],
      "source": [
        "print('hello, world')"
      ]
    },
    {
      "cell_type": "code",
      "source": [
        "# programa 2\n",
        "a = '9'\n",
        "b = '10'\n",
        "resultado = a < b\n",
        "print(resultado)\n"
      ],
      "metadata": {
        "colab": {
          "base_uri": "https://localhost:8080/"
        },
        "id": "8u4R4I-qu2Nt",
        "outputId": "a5164d2e-24a7-4e2f-9fc3-c2eea19ecb59"
      },
      "execution_count": null,
      "outputs": [
        {
          "output_type": "stream",
          "name": "stdout",
          "text": [
            "False\n"
          ]
        }
      ]
    },
    {
      "cell_type": "code",
      "source": [
        "## programa 3\n",
        "a = 100\n",
        "b = 20\n",
        "resultado = a * b\n",
        "print(resultado)"
      ],
      "metadata": {
        "colab": {
          "base_uri": "https://localhost:8080/"
        },
        "id": "j1F7Wu2ExPDl",
        "outputId": "6ffe4000-b362-4ac0-8238-fa08727290d2"
      },
      "execution_count": null,
      "outputs": [
        {
          "output_type": "stream",
          "name": "stdout",
          "text": [
            "2000\n"
          ]
        }
      ]
    },
    {
      "cell_type": "code",
      "source": [
        "## programa 4\n",
        "precos = {\n",
        "    'celular': 1500,\n",
        "    'computador': 5000,\n",
        "    'tablet':2000,\n",
        "}\n",
        "for item in precos:\n",
        "  print(item)"
      ],
      "metadata": {
        "colab": {
          "base_uri": "https://localhost:8080/"
        },
        "id": "ERGmT8CvxvJN",
        "outputId": "c091ac97-73bb-4cc9-b155-02c0a627a4a3"
      },
      "execution_count": null,
      "outputs": [
        {
          "output_type": "stream",
          "name": "stdout",
          "text": [
            "celular\n",
            "computador\n",
            "tablet\n"
          ]
        }
      ]
    },
    {
      "cell_type": "code",
      "source": [
        "## programa 4\n",
        "precos = {\n",
        "    'celular': 1500,\n",
        "    'computador': 5000,\n",
        "    'tablet':2000,\n",
        "}\n",
        "for item in precos:\n",
        "  print(precos[item])"
      ],
      "metadata": {
        "colab": {
          "base_uri": "https://localhost:8080/"
        },
        "id": "_O59_3g0zZ2H",
        "outputId": "d0006e22-f16f-44c1-e6c9-4f6bfdbe4951"
      },
      "execution_count": null,
      "outputs": [
        {
          "output_type": "stream",
          "name": "stdout",
          "text": [
            "1500\n",
            "5000\n",
            "2000\n"
          ]
        }
      ]
    },
    {
      "cell_type": "code",
      "source": [
        "## calculadora Adição\n",
        "number_1 = int(input('Enter your first number:'))\n",
        "number_2 = int(input('enter your second number:'))\n",
        "\n",
        "print(number_1 + number_2)"
      ],
      "metadata": {
        "colab": {
          "base_uri": "https://localhost:8080/"
        },
        "id": "Q8r8vRZQz4Tu",
        "outputId": "bc4413af-9417-41ee-ebb3-958259599318"
      },
      "execution_count": null,
      "outputs": [
        {
          "output_type": "stream",
          "name": "stdout",
          "text": [
            "Enter your first number:28\n",
            "enter your second number:02\n",
            "30\n"
          ]
        }
      ]
    },
    {
      "cell_type": "code",
      "source": [
        "## calculadora Subtração\n",
        "number_1 = int(input('Enter your first number:'))\n",
        "number_2 = int(input('enter your second number:'))\n",
        "\n",
        "print(number_1 - number_2)"
      ],
      "metadata": {
        "colab": {
          "base_uri": "https://localhost:8080/"
        },
        "id": "IR9tDHNz1tnv",
        "outputId": "027ad246-762c-4662-a948-92e972ad30ce"
      },
      "execution_count": null,
      "outputs": [
        {
          "output_type": "stream",
          "name": "stdout",
          "text": [
            "Enter your first number:22\n",
            "enter your second number:03\n",
            "19\n"
          ]
        }
      ]
    },
    {
      "cell_type": "code",
      "source": [
        "## calculadora Multiplicação\n",
        "number_1 = int(input('Enter your first number:'))\n",
        "number_2 = int(input('enter your second number:'))\n",
        "\n",
        "print(number_1 * number_2)"
      ],
      "metadata": {
        "colab": {
          "base_uri": "https://localhost:8080/"
        },
        "id": "Q6s4nErD16q3",
        "outputId": "79950c30-329d-432c-83a3-730bc0439767"
      },
      "execution_count": null,
      "outputs": [
        {
          "output_type": "stream",
          "name": "stdout",
          "text": [
            "Enter your first number:22\n",
            "enter your second number:02\n",
            "44\n"
          ]
        }
      ]
    },
    {
      "cell_type": "code",
      "source": [
        "## calculadora Divisão\n",
        "number_1 = int(input('Enter your first number:'))\n",
        "number_2 = int(input('enter your second number:'))\n",
        "\n",
        "print(number_1 / number_2)"
      ],
      "metadata": {
        "colab": {
          "base_uri": "https://localhost:8080/"
        },
        "id": "6lQBxBAn2Kew",
        "outputId": "cc6d3ebf-92ed-4617-8a69-0590fefb2c5e"
      },
      "execution_count": null,
      "outputs": [
        {
          "output_type": "stream",
          "name": "stdout",
          "text": [
            "Enter your first number:29\n",
            "enter your second number:23\n",
            "1.2608695652173914\n"
          ]
        }
      ]
    },
    {
      "cell_type": "code",
      "source": [
        "## Aplicando conjunto (sets) em Python\n",
        "planeta_anao = {'plutao','ceres','eris','haumea','makemake'}\n",
        "planeta_ss = {'saturno','jupter','venus'}\n",
        "print(planeta_anao)"
      ],
      "metadata": {
        "colab": {
          "base_uri": "https://localhost:8080/"
        },
        "id": "hyNYZkmn3FYQ",
        "outputId": "93d27702-8eea-4d01-b768-fb40f9f5410b"
      },
      "execution_count": null,
      "outputs": [
        {
          "output_type": "stream",
          "name": "stdout",
          "text": [
            "{'haumea', 'plutao', 'eris', 'ceres', 'makemake'}\n"
          ]
        }
      ]
    },
    {
      "cell_type": "code",
      "source": [
        "## Aplicando conjunto (sets) em Python\n",
        "planeta_natalia= {'plutao','ceres','eris','haumea','makemake'}\n",
        "planeta_ss = {'saturno','jupter','venus'}\n",
        "print(planeta_natalia)"
      ],
      "metadata": {
        "colab": {
          "base_uri": "https://localhost:8080/"
        },
        "id": "LTV-zQIi4mxh",
        "outputId": "1dc88d3b-0f40-4929-f17a-10809728cfcc"
      },
      "execution_count": null,
      "outputs": [
        {
          "output_type": "stream",
          "name": "stdout",
          "text": [
            "{'haumea', 'plutao', 'eris', 'ceres', 'makemake'}\n"
          ]
        }
      ]
    },
    {
      "cell_type": "code",
      "source": [
        "## Exemplo de criação de sets com elementos repetido (distintos)\n",
        "numeros = [1, 2, 2, 3, 3, 3]\n",
        "numeros_distintos = set ()\n",
        "for num in numeros:\n",
        "  numeros_distintos.add(num)\n",
        "print(\"números: \", numeros)\n",
        "print(\"números distintos: \", numeros_distintos)"
      ],
      "metadata": {
        "colab": {
          "base_uri": "https://localhost:8080/"
        },
        "id": "Dlbv2V5p8g3b",
        "outputId": "8a70344e-6881-4919-9fb7-d4a3554f54fd"
      },
      "execution_count": null,
      "outputs": [
        {
          "output_type": "stream",
          "name": "stdout",
          "text": [
            "números:  [1, 2, 2, 3, 3, 3]\n",
            "números distintos:  {1, 2, 3}\n"
          ]
        }
      ]
    },
    {
      "cell_type": "code",
      "source": [
        "## Quantidade de elementos dos sets\n",
        "planetas_anao = ('plutao' , 'ceres' , 'eris' , 'haumea' , 'makemake')\n",
        "print(planetas_anao)\n",
        "qtde_planetas = len(planeta_anao)\n",
        "print(qtde_planetas)"
      ],
      "metadata": {
        "colab": {
          "base_uri": "https://localhost:8080/"
        },
        "id": "ZJUIDaGz_KZE",
        "outputId": "843d2e1a-1bfc-482b-b5f7-802da060499a"
      },
      "execution_count": null,
      "outputs": [
        {
          "output_type": "stream",
          "name": "stdout",
          "text": [
            "('plutao', 'ceres', 'eris', 'haumea', 'makemake')\n",
            "5\n"
          ]
        }
      ]
    },
    {
      "cell_type": "code",
      "source": [
        "## Comparando sets\n",
        "planetas1 = {'terra' , 'venus' , 'mercurio' , 'marte'}\n",
        "planetas2 ={'terra' , 'venus' , 'mercurio' , 'marte' , 'saturno'}\n",
        "print(planetas1 == planetas2)\n",
        "print(planetas1 != planetas2)"
      ],
      "metadata": {
        "colab": {
          "base_uri": "https://localhost:8080/"
        },
        "id": "3E9BgtHZA7SV",
        "outputId": "6f570ec8-bdee-4351-f56d-fb7ea759732a"
      },
      "execution_count": null,
      "outputs": [
        {
          "output_type": "stream",
          "name": "stdout",
          "text": [
            "False\n",
            "True\n"
          ]
        }
      ]
    },
    {
      "cell_type": "code",
      "source": [
        "## uniao de sets\n",
        "planetas1 =  {'venus' , 'marcurio' , 'terra' , 'netuno' , 'marte'}\n",
        "plnetas2 = {'terra' , 'jupiter' , 'urano' , 'saturno' , 'marte'}\n",
        "print(planetas1 | planetas2)\n",
        "print(planetas1.union(planetas2))"
      ],
      "metadata": {
        "colab": {
          "base_uri": "https://localhost:8080/"
        },
        "id": "nwXhaVg2CXMm",
        "outputId": "660080ac-5269-438f-b8e8-9c1b6b0f817d"
      },
      "execution_count": null,
      "outputs": [
        {
          "output_type": "stream",
          "name": "stdout",
          "text": [
            "{'marte', 'netuno', 'mercurio', 'terra', 'marcurio', 'saturno', 'venus'}\n",
            "{'marte', 'netuno', 'mercurio', 'terra', 'marcurio', 'saturno', 'venus'}\n"
          ]
        }
      ]
    },
    {
      "cell_type": "code",
      "source": [
        "## interceção de conjuntos\n",
        "planetas1 = {'venus',  'marcurio' , 'terra' , 'netuno' , 'marte'}\n",
        "planetas2 = {'terra' , 'jupiter' , 'urano' , 'saturno' , 'marte'}\n",
        "print(planetas1 & planetas2)\n",
        "print(planetas1.intersection(planetas2))"
      ],
      "metadata": {
        "colab": {
          "base_uri": "https://localhost:8080/"
        },
        "id": "B7zg84faDlIu",
        "outputId": "ca8e54c4-fb51-4d68-ef75-106bbac45788"
      },
      "execution_count": null,
      "outputs": [
        {
          "output_type": "stream",
          "name": "stdout",
          "text": [
            "{'marte', 'terra'}\n",
            "{'marte', 'terra'}\n"
          ]
        }
      ]
    },
    {
      "cell_type": "code",
      "source": [
        "## interceção de conjuntos\n",
        "planetas1 = {'venus',  'marcurio' , 'terra' , 'netuno' , 'marte'}\n",
        "planetas2 = {'terra' , 'jupiter' , 'urano' , 'saturno' , 'marte'}\n",
        "print(planetas1 - planetas2)\n",
        "print(planetas1.difference(planetas2))"
      ],
      "metadata": {
        "colab": {
          "base_uri": "https://localhost:8080/"
        },
        "id": "8Yjfyp6YFDbv",
        "outputId": "7ef53237-7e81-44a6-fec1-3e83cfe5211f"
      },
      "execution_count": null,
      "outputs": [
        {
          "output_type": "stream",
          "name": "stdout",
          "text": [
            "{'netuno', 'marcurio', 'venus'}\n",
            "{'netuno', 'marcurio', 'venus'}\n"
          ]
        }
      ]
    },
    {
      "cell_type": "code",
      "source": [
        "## adicionar e remove elementos em um conjunto\n",
        "planetas = {'mercurio', 'venus' , 'terra', 'marte'}\n",
        "planetas.add('jupite')\n",
        "planetas.add('marte') \n",
        "print(planetas, end=' ')\n",
        "print(planetas, end=' ')\n",
        "planetas.discard('terra')\n",
        "print(planetas, end=' ')"
      ],
      "metadata": {
        "colab": {
          "base_uri": "https://localhost:8080/"
        },
        "id": "DxDWODiFFv74",
        "outputId": "09a7014d-b278-4c5d-f438-9e6f6fb59bb7"
      },
      "execution_count": null,
      "outputs": [
        {
          "output_type": "stream",
          "name": "stdout",
          "text": [
            "{'marte', 'mercurio', 'terra', 'jupite', 'venus'} {'marte', 'mercurio', 'terra', 'jupite', 'venus'} {'marte', 'mercurio', 'jupite', 'venus'} "
          ]
        }
      ]
    },
    {
      "cell_type": "code",
      "source": [
        "## pertinencia\n",
        "a = {1, 2, 3, 4}\n",
        "b = {3, 4, 5, 6}\n",
        "c = {2, 4, 6, 8}\n",
        "1 in a"
      ],
      "metadata": {
        "colab": {
          "base_uri": "https://localhost:8080/"
        },
        "id": "JExVqnptHxDJ",
        "outputId": "75840b0b-5570-4eb7-8148-ce87c827c16e"
      },
      "execution_count": null,
      "outputs": [
        {
          "output_type": "execute_result",
          "data": {
            "text/plain": [
              "True"
            ]
          },
          "metadata": {},
          "execution_count": 38
        }
      ]
    },
    {
      "cell_type": "code",
      "source": [
        "## pertinencia\n",
        "a = {1, 2, 3, 5}\n",
        "b = {3, 4, 5, 9}\n",
        "c = {2, 4, 6, 10}\n",
        "1 in a"
      ],
      "metadata": {
        "colab": {
          "base_uri": "https://localhost:8080/"
        },
        "id": "QnyyoliTIXGJ",
        "outputId": "752c5172-857b-490f-fe3f-c8ae4ced2029"
      },
      "execution_count": null,
      "outputs": [
        {
          "output_type": "execute_result",
          "data": {
            "text/plain": [
              "True"
            ]
          },
          "metadata": {},
          "execution_count": 39
        }
      ]
    },
    {
      "cell_type": "code",
      "source": [
        "## inclusao\n",
        "a = {1, 2, 3, 4}\n",
        "b = {3, 5}\n",
        "c = {2,3}\n",
        "c.issubset(a)"
      ],
      "metadata": {
        "colab": {
          "base_uri": "https://localhost:8080/"
        },
        "id": "IPCp0-bi3G79",
        "outputId": "e5b4430e-caff-4198-fb4b-be460aff8a47"
      },
      "execution_count": null,
      "outputs": [
        {
          "output_type": "execute_result",
          "data": {
            "text/plain": [
              "True"
            ]
          },
          "metadata": {},
          "execution_count": 1
        }
      ]
    },
    {
      "cell_type": "code",
      "source": [
        "## programa final da aula de hoje\n",
        "print(\"goodbye, world\")"
      ],
      "metadata": {
        "colab": {
          "base_uri": "https://localhost:8080/"
        },
        "id": "SEuB6RhG4GM0",
        "outputId": "f2075e3d-04b3-4b4c-919f-dec3306a9841"
      },
      "execution_count": null,
      "outputs": [
        {
          "output_type": "stream",
          "name": "stdout",
          "text": [
            "goodbye, world\n"
          ]
        }
      ]
    }
  ]
}