{
  "nbformat": 4,
  "nbformat_minor": 0,
  "metadata": {
    "colab": {
      "provenance": []
    },
    "kernelspec": {
      "name": "python3",
      "display_name": "Python 3"
    },
    "language_info": {
      "name": "python"
    }
  },
  "cells": [
    {
      "cell_type": "code",
      "execution_count": null,
      "metadata": {
        "id": "N3_KId904_im"
      },
      "outputs": [],
      "source": [
        "## para utilizar uma funçao em python usamos: \"def\""
      ]
    },
    {
      "cell_type": "code",
      "source": [
        "def funcao():\n",
        "  print(\"bloco de codigo\")"
      ],
      "metadata": {
        "id": "G2dbTM4M62O7"
      },
      "execution_count": null,
      "outputs": []
    },
    {
      "cell_type": "code",
      "source": [
        "def funcao():\n",
        "    print(\"bloco de codigoo\")\n",
        "\n",
        "\n",
        "funcao()"
      ],
      "metadata": {
        "colab": {
          "base_uri": "https://localhost:8080/"
        },
        "id": "4XvZ0AIW7Cn2",
        "outputId": "7549847c-0fc6-42d9-d7b2-d2511de5bab5"
      },
      "execution_count": null,
      "outputs": [
        {
          "output_type": "stream",
          "name": "stdout",
          "text": [
            "bloco de codigoo\n"
          ]
        }
      ]
    },
    {
      "cell_type": "code",
      "source": [
        "def imprime_nome(nome):\n",
        "    print(f\"nome: {nome}\")\n",
        "\n",
        "imprime_nome(\"Erickson\")\n",
        "imprime_nome(\"Renan\")\n",
        "imprime_nome(\"Daniel\")"
      ],
      "metadata": {
        "colab": {
          "base_uri": "https://localhost:8080/"
        },
        "id": "4hxNj6Tx7hik",
        "outputId": "7af41a60-fc6d-4ac5-b097-6bf9c5f738a1"
      },
      "execution_count": null,
      "outputs": [
        {
          "output_type": "stream",
          "name": "stdout",
          "text": [
            "nome: Erickson\n",
            "nome: Renan\n",
            "nome: Daniel\n"
          ]
        }
      ]
    },
    {
      "cell_type": "code",
      "source": [
        "def flor(flor='rosa', cor='vermelha'):\n",
        "    print(\"a cor da {flor} e {cor}\")\n",
        "\n",
        "flor()\n",
        "flor(\"orquidea\", \"azul\")"
      ],
      "metadata": {
        "colab": {
          "base_uri": "https://localhost:8080/"
        },
        "id": "mGsns3qJ8o06",
        "outputId": "440e79ff-0009-4877-bd89-a3abe5befa45"
      },
      "execution_count": null,
      "outputs": [
        {
          "output_type": "stream",
          "name": "stdout",
          "text": [
            "a cor da {flor} e {cor}\n",
            "a cor da {flor} e {cor}\n"
          ]
        }
      ]
    },
    {
      "cell_type": "code",
      "source": [
        "def monta_computador(cpu='', armazenamento=0, memoria=0):\n",
        "    print('a configuração e: \\n\\t- cpu: {cpu} armazenamento: {armazenemento}tb\\n\\t- memoria: {memoria}Gb')\n",
        "\n",
        "\n",
        "monta_computador('intel core i9', 4, 64)\n",
        "    "
      ],
      "metadata": {
        "colab": {
          "base_uri": "https://localhost:8080/"
        },
        "id": "X_gFru3r9dLw",
        "outputId": "d15fa339-4a75-4a12-a260-45f3e5e67909"
      },
      "execution_count": null,
      "outputs": [
        {
          "output_type": "stream",
          "name": "stdout",
          "text": [
            "a configuração e: \n",
            "\t- cpu: {cpu} armazenamento: {armazenemento}tb\n",
            "\t- memoria: {memoria}Gb\n"
          ]
        }
      ]
    },
    {
      "cell_type": "code",
      "source": [
        "def maior_30(*args):\n",
        "    print(args)\n",
        "    print(type(args))\n",
        "    \n",
        "    for num in args:\n",
        "      if num > 30:\n",
        "          print(num)\n",
        "\n",
        "maior_30(10, 20, 30, 40, 50, 60)"
      ],
      "metadata": {
        "colab": {
          "base_uri": "https://localhost:8080/"
        },
        "id": "MGuqz4sR_0uN",
        "outputId": "c6f6ada9-6ede-4676-b4bb-0fae4453f2ad"
      },
      "execution_count": null,
      "outputs": [
        {
          "output_type": "stream",
          "name": "stdout",
          "text": [
            "(10, 20, 30, 40, 50, 60)\n",
            "<class 'tuple'>\n",
            "40\n",
            "50\n",
            "60\n"
          ]
        }
      ]
    },
    {
      "cell_type": "code",
      "source": [
        "def dados_pessoa(**kwargs):\n",
        "    print(type(kwargs))\n",
        "\n",
        "    for chave, valor in kwargs.items():\n",
        "        print(f\"{chave}: {valor}\")\n",
        "\n",
        "dados_pessoa(nome='joao', idade=35, carreira='desenvolvedor fullstack')"
      ],
      "metadata": {
        "colab": {
          "base_uri": "https://localhost:8080/"
        },
        "id": "oD-QXnJzAtOS",
        "outputId": "57515c37-c329-4378-cc94-aa4f0f4ee626"
      },
      "execution_count": null,
      "outputs": [
        {
          "output_type": "stream",
          "name": "stdout",
          "text": [
            "<class 'dict'>\n",
            "nome: joao\n",
            "idade: 35\n",
            "carreira: desenvolvedor fullstack\n"
          ]
        }
      ]
    },
    {
      "cell_type": "code",
      "source": [
        "def soma_dois_numeros(valor1, valor2):\n",
        "    soma = valor1 + valor2\n",
        "    return soma\n",
        "\n",
        "valor_soma = soma_dois_numeros(32, 15)\n",
        "print(valor_soma)\n",
        "print(soma_dois_numeros(50, 10))"
      ],
      "metadata": {
        "colab": {
          "base_uri": "https://localhost:8080/"
        },
        "id": "1wrjXYPWCjUD",
        "outputId": "f0138111-b814-4345-a9d6-8d22c008a2d7"
      },
      "execution_count": null,
      "outputs": [
        {
          "output_type": "stream",
          "name": "stdout",
          "text": [
            "47\n",
            "60\n"
          ]
        }
      ]
    },
    {
      "cell_type": "code",
      "source": [
        "def soma_dois_numeros_e_calcula_media(valor1, valor2):\n",
        "    soma = valor1 + valor2\n",
        "    media = (valor1 + valor2)/2\n",
        "\n",
        "    return soma, media\n",
        "\n",
        "valor_soma = soma_dois_numeros_e_calcula_media(32, 15)\n",
        "print(valor_soma)\n",
        "print(soma_dois_numeros_e_calcula_media(50, 10))"
      ],
      "metadata": {
        "colab": {
          "base_uri": "https://localhost:8080/"
        },
        "id": "xkIVzms1EKDt",
        "outputId": "9028fb46-fe73-4b41-ad57-64187fda383b"
      },
      "execution_count": null,
      "outputs": [
        {
          "output_type": "stream",
          "name": "stdout",
          "text": [
            "(47, 23.5)\n",
            "(60, 30.0)\n"
          ]
        }
      ]
    },
    {
      "cell_type": "code",
      "source": [
        "#definição das funções\n",
        "def soma(valor1, valor2): return valor1 + valor2\n",
        "def divisao(valor1, valor2): return valor1 / valor2\n",
        "def multiplicacao(valor1, valor2): return valor1 * valor2\n",
        "\n",
        "# chamada das funções\n",
        "print(soma(1, 5))\n",
        "print(divisao(8, 2))\n",
        "print(multiplicacao(8, 2))"
      ],
      "metadata": {
        "id": "TXIGKgXsFoKD",
        "colab": {
          "base_uri": "https://localhost:8080/"
        },
        "outputId": "78fc6ef6-fd52-401a-876b-01440f3ea596"
      },
      "execution_count": null,
      "outputs": [
        {
          "output_type": "stream",
          "name": "stdout",
          "text": [
            "6\n",
            "4.0\n",
            "16\n"
          ]
        }
      ]
    }
  ]
}