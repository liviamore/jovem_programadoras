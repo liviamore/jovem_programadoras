{
  "nbformat": 4,
  "nbformat_minor": 0,
  "metadata": {
    "colab": {
      "provenance": []
    },
    "kernelspec": {
      "name": "python3",
      "display_name": "Python 3"
    },
    "language_info": {
      "name": "python"
    }
  },
  "cells": [
    {
      "cell_type": "code",
      "execution_count": null,
      "metadata": {
        "id": "1bk3IFXOHOMJ"
      },
      "outputs": [],
      "source": [
        "# valores \n",
        "dias = [\"domingo\", \"segunda\", \"terça\", \"quarta\", \"quinta\", \"sexta\", \"sabado\"]\n"
      ]
    },
    {
      "cell_type": "code",
      "source": [
        "a = \"bom dia\"\n",
        "b = \" boa tarde\"\n",
        "mensagem = [a,b]"
      ],
      "metadata": {
        "id": "W_BuIJBzH-08"
      },
      "execution_count": null,
      "outputs": []
    },
    {
      "cell_type": "code",
      "source": [
        "mensagens = [\" bom dia\", \"boa tarde\"]\n",
        "mensagens.append(\"boa noite\")\n",
        "print(mensagens)"
      ],
      "metadata": {
        "colab": {
          "base_uri": "https://localhost:8080/"
        },
        "id": "uH0TuDF6IMdc",
        "outputId": "94ad6f3a-1b35-4fda-e5c1-8fa21f92498b"
      },
      "execution_count": null,
      "outputs": [
        {
          "output_type": "stream",
          "name": "stdout",
          "text": [
            "[' bom dia', 'boa tarde', 'boa noite']\n"
          ]
        }
      ]
    },
    {
      "cell_type": "code",
      "source": [
        "mensagens = [\"bom dia\", \"boa tarde\", \"boa noite\", \"como vai?\"]\n",
        "mensagens.pop(3)\n",
        "print(mensagens)"
      ],
      "metadata": {
        "colab": {
          "base_uri": "https://localhost:8080/"
        },
        "id": "aIwVgp9kIq_M",
        "outputId": "50bb8f80-02a1-49a0-b85c-a734e50bf961"
      },
      "execution_count": null,
      "outputs": [
        {
          "output_type": "stream",
          "name": "stdout",
          "text": [
            "['bom dia', 'boa tarde', 'boa noite']\n"
          ]
        }
      ]
    },
    {
      "cell_type": "code",
      "source": [
        "vetor = [1, 2, 3, 4, 5, 6, 7, 8, 9, 10]\n",
        "a = vetor[0]+vetor[8]\n",
        "print(a)\n",
        "b = vetor[9]-vetor[8]\n",
        "print(b)\n",
        "c = vetor[1]*vetor[4]\n",
        "print(c)"
      ],
      "metadata": {
        "colab": {
          "base_uri": "https://localhost:8080/"
        },
        "id": "OZcYYf-mJJG7",
        "outputId": "91be1d02-506f-4bb4-a431-0c1b637f14d7"
      },
      "execution_count": null,
      "outputs": [
        {
          "output_type": "stream",
          "name": "stdout",
          "text": [
            "10\n",
            "1\n",
            "10\n"
          ]
        }
      ]
    },
    {
      "cell_type": "code",
      "source": [
        "vetor1 = [\"bom dia\", \"boa tarde\", \"boa noite\"]\n",
        "vetor2 = [\"bruno\", \"marceo\", \"bernado\"]\n",
        "vetor3 = [\"como vai\", \"que horas sao\", \"vamos programar\"]\n",
        "matriz = [vetor1, vetor2, vetor3]"
      ],
      "metadata": {
        "id": "4D-Cji8vQECj"
      },
      "execution_count": null,
      "outputs": []
    },
    {
      "cell_type": "code",
      "source": [
        "vetor1 = [\"bom dia\", \"boa tarde\", \"boa noite\"]\n",
        "vetor2 = [\"bruno\", \"marceo\", \"bernado\"]\n",
        "vetor3 = [\"como vai\", \"que horas sao\", \"vamos programar\"]\n",
        "matriz = []\n",
        "matriz.append(vetor1)\n",
        "matriz.append(vetor2)\n",
        "matriz.append(vetor3)\n",
        "print(matriz)"
      ],
      "metadata": {
        "colab": {
          "base_uri": "https://localhost:8080/"
        },
        "id": "RokorHiJRTDD",
        "outputId": "4cce7f97-6794-4b88-9a96-98d99d4db12a"
      },
      "execution_count": null,
      "outputs": [
        {
          "output_type": "stream",
          "name": "stdout",
          "text": [
            "[['bom dia', 'boa tarde', 'boa noite'], ['bruno', 'marceo', 'bernado'], ['como vai', 'que horas sao', 'vamos programar']]\n"
          ]
        }
      ]
    },
    {
      "cell_type": "code",
      "source": [
        "vetor1 = [\"bom dia\", \"boa tarde\", \"boa noite\"]\n",
        "vetor2 = [\"bruno\", \"marceo\", \"bernado\"]\n",
        "vetor3 = [\"como vai\", \"que horas sao\", \"vamos programar\"]\n",
        "matriz = [vetor1, vetor2, vetor3]\n",
        "print(matriz[0][0])"
      ],
      "metadata": {
        "colab": {
          "base_uri": "https://localhost:8080/"
        },
        "id": "_NyHBVkiR207",
        "outputId": "66c809ac-0c51-44bc-b6f0-4a9943ade8dc"
      },
      "execution_count": null,
      "outputs": [
        {
          "output_type": "stream",
          "name": "stdout",
          "text": [
            "bom dia\n"
          ]
        }
      ]
    },
    {
      "cell_type": "code",
      "source": [
        "vetor1 = [\"bom dia\", \"boa tarde\", \"boa noite\"]\n",
        "vetor2 = [\"bruno\", \"marceo\", \"bernado\"]\n",
        "vetor3 = [\"como vai\", \"que horas sao\", \"vamos programar\"]\n",
        "matriz = [vetor1, vetor2, vetor3]\n",
        "matriz[0].append(\"bom final de semana\")\n",
        "print(matriz[0]) "
      ],
      "metadata": {
        "colab": {
          "base_uri": "https://localhost:8080/"
        },
        "id": "7zyUWNH7ShBz",
        "outputId": "c8858726-d0f0-4946-c47c-8bd06c4b73bd"
      },
      "execution_count": null,
      "outputs": [
        {
          "output_type": "stream",
          "name": "stdout",
          "text": [
            "['bom dia', 'boa tarde', 'boa noite', 'bom final de semana']\n"
          ]
        }
      ]
    },
    {
      "cell_type": "code",
      "source": [
        "vetor1 = [\"bom dia\", \"boa tarde\", \"boa noite\"]\n",
        "vetor2 = [\"bruno\", \"marceo\", \"bernado\"]\n",
        "vetor3 = [\"como vai\", \"que horas sao\", \"vamos programar\"]\n",
        "matriz = [vetor1, vetor2, vetor3]\n",
        "matriz[1].append(\"escreva seu nome aqui!\")\n",
        "print(matriz[1])"
      ],
      "metadata": {
        "colab": {
          "base_uri": "https://localhost:8080/"
        },
        "id": "0FCz7o1kTQ_7",
        "outputId": "63d8dd2a-945d-4401-b865-73233ca1d3a3"
      },
      "execution_count": null,
      "outputs": [
        {
          "output_type": "stream",
          "name": "stdout",
          "text": [
            "['bruno', 'marceo', 'bernado', 'escreva seu nome aqui!']\n"
          ]
        }
      ]
    },
    {
      "cell_type": "code",
      "source": [
        "vetor1 = [\"bom dia\", \"boa tarde\", \"boa noite\"]\n",
        "vetor2 = [\"bruno\", \"marceo\", \"bernado\"]\n",
        "vetor3 = [\"como vai\", \"que horas sao\", \"vamos programar\"]\n",
        "matriz = [vetor1, vetor2, vetor3]\n",
        "matriz[1].pop(0)\n",
        "matriz.pop(2)"
      ],
      "metadata": {
        "colab": {
          "base_uri": "https://localhost:8080/"
        },
        "id": "s9P3mVt8UrRE",
        "outputId": "70a77b5f-436d-415a-e072-c777c06a1ca6"
      },
      "execution_count": null,
      "outputs": [
        {
          "output_type": "execute_result",
          "data": {
            "text/plain": [
              "['como vai', 'que horas sao', 'vamos programar']"
            ]
          },
          "metadata": {},
          "execution_count": 22
        }
      ]
    },
    {
      "cell_type": "code",
      "source": [
        "pessoas = []\n",
        "nomes = [\"hinata\", \"naruto\", \"sasuke\"]\n",
        "sobrenomes =[\"hyuuga\", 'uzamaki', \"uchina\"]\n",
        "pessoas.append(nomes)\n",
        "pessoas.append(sobrenomes)\n",
        "lugares = []\n",
        "estados = [\"sao paulo\", \"rio de janeiro\", \"sergipe\", \"fortaleza\"]\n",
        "capitais = [\"sao paulo\", \"rio de janeiro\", \"aracaju\", \"ceara\"]\n",
        "lugares.append(estados)\n",
        "lugares.append(capitais)\n",
        "conjunto = []\n",
        "conjunto.append(pessoas)\n",
        "conjunto.append(lugares)\n",
        "print(conjunto[0][1][0])"
      ],
      "metadata": {
        "colab": {
          "base_uri": "https://localhost:8080/"
        },
        "id": "cU5h_a8eVlKL",
        "outputId": "4bf4b3cf-e767-4658-cc8a-99043f18e993"
      },
      "execution_count": null,
      "outputs": [
        {
          "output_type": "stream",
          "name": "stdout",
          "text": [
            "hyuuga\n"
          ]
        }
      ]
    },
    {
      "cell_type": "code",
      "source": [
        "vetor1 = [\"alice pais das maravilhas\", \"crepusculo\", \"como eu era antes de voce\"]\n",
        "vetor2 = [\"a ordem\", \"lei e ordem\", \"teen wolf\"]\n",
        "vetor3 = [\"amor e gelato\", \"para todos garotos que eu ja amei\", \"orgulho e preconceito\"]\n",
        "matriz = [vetor1, vetor2, vetor3]\n",
        "print(matriz)"
      ],
      "metadata": {
        "colab": {
          "base_uri": "https://localhost:8080/"
        },
        "id": "Cku0rAm7YW8b",
        "outputId": "6206b292-25af-4047-d68e-f37ab301d9c2"
      },
      "execution_count": null,
      "outputs": [
        {
          "output_type": "stream",
          "name": "stdout",
          "text": [
            "[['alice pais das maravilhas', 'crepusculo', 'como eu era antes de voce'], ['a ordem', 'lei e ordem', 'teen wolf'], ['amor e gelato', 'para todos garotos que eu ja amei', 'orgulho e preconceito']]\n"
          ]
        }
      ]
    }
  ]
}